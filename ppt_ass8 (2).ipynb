{
 "cells": [
  {
   "cell_type": "code",
   "execution_count": 35,
   "id": "25c28f7b-df7e-4c9d-8180-1f683184014a",
   "metadata": {},
   "outputs": [
    {
     "data": {
      "text/plain": [
       "'\\n*Question 1**\\n\\nGiven two strings s1 and s2, return *the lowest **ASCII** sum of deleted characters to make two strings equal*.\\n\\n**Example 1:**\\n\\n**Input:** s1 = \"sea\", s2 = \"eat\"\\n\\n**Output:** 231\\n\\n**Explanation:** Deleting \"s\" from \"sea\" adds the ASCII value of \"s\" (115) to the sum.\\n\\nDeleting \"t\" from \"eat\" adds 116 to the sum.\\n\\nAt the end, both strings are equal, and 115 + 116 = 231 is the minimum sum possible to achieve this.\\n\\n'"
      ]
     },
     "execution_count": 35,
     "metadata": {},
     "output_type": "execute_result"
    }
   ],
   "source": [
    "\"\"\"\n",
    "*Question 1**\n",
    "\n",
    "Given two strings s1 and s2, return *the lowest **ASCII** sum of deleted characters to make two strings equal*.\n",
    "\n",
    "**Example 1:**\n",
    "\n",
    "**Input:** s1 = \"sea\", s2 = \"eat\"\n",
    "\n",
    "**Output:** 231\n",
    "\n",
    "**Explanation:** Deleting \"s\" from \"sea\" adds the ASCII value of \"s\" (115) to the sum.\n",
    "\n",
    "Deleting \"t\" from \"eat\" adds 116 to the sum.\n",
    "\n",
    "At the end, both strings are equal, and 115 + 116 = 231 is the minimum sum possible to achieve this.\n",
    "\n",
    "\"\"\""
   ]
  },
  {
   "cell_type": "code",
   "execution_count": 36,
   "id": "88a251cc-c053-4723-b922-f6dc38237309",
   "metadata": {},
   "outputs": [],
   "source": [
    "def minimumDeleteSum(s1, s2):\n",
    "    m, n = len(s1), len(s2)\n",
    "    dp = [[0] * (n+1) for _ in range(m+1)]\n",
    "\n",
    "    for i in range(m, -1, -1):\n",
    "        for j in range(n, -1, -1):\n",
    "            if i == m:\n",
    "                dp[i][j] = sum(ord(c) for c in s2[j:])\n",
    "            elif j == n:\n",
    "                dp[i][j] = sum(ord(c) for c in s1[i:])\n",
    "            elif s1[i] == s2[j]:\n",
    "                dp[i][j] = dp[i+1][j+1]\n",
    "            else:\n",
    "                dp[i][j] = min(ord(s1[i]) + dp[i+1][j], ord(s2[j]) + dp[i][j+1])\n",
    "\n",
    "    return dp[0][0]\n"
   ]
  },
  {
   "cell_type": "code",
   "execution_count": 37,
   "id": "020e4517-d8a9-4738-aeb7-af75374b225c",
   "metadata": {},
   "outputs": [
    {
     "data": {
      "text/plain": [
       "231"
      ]
     },
     "execution_count": 37,
     "metadata": {},
     "output_type": "execute_result"
    }
   ],
   "source": [
    "minimumDeleteSum(\"sea\", \"eat\")"
   ]
  },
  {
   "cell_type": "code",
   "execution_count": 38,
   "id": "2d831c7a-34ee-4d63-9433-6abe3023d0f5",
   "metadata": {},
   "outputs": [
    {
     "data": {
      "text/plain": [
       "'\\n **Question 2**\\n\\nGiven a string s containing only three types of characters: \\'(\\', \\')\\' and \\'*\\', return true *if* s *is **valid***.\\n\\nThe following rules define a **valid** string:\\n\\n- Any left parenthesis \\'(\\' must have a corresponding right parenthesis \\')\\'.\\n- Any right parenthesis \\')\\' must have a corresponding left parenthesis \\'(\\'.\\n- Left parenthesis \\'(\\' must go before the corresponding right parenthesis \\')\\'.\\n- \\'*\\' could be treated as a single right parenthesis \\')\\' or a single left parenthesis \\'(\\' or an empty string \"\".\\n\\n**Example 1:**\\n\\n**Input:** s = \"()\"\\n\\n**Output:**\\n\\ntrue\\n\\n'"
      ]
     },
     "execution_count": 38,
     "metadata": {},
     "output_type": "execute_result"
    }
   ],
   "source": [
    "\"\"\"\n",
    " **Question 2**\n",
    "\n",
    "Given a string s containing only three types of characters: '(', ')' and '*', return true *if* s *is **valid***.\n",
    "\n",
    "The following rules define a **valid** string:\n",
    "\n",
    "- Any left parenthesis '(' must have a corresponding right parenthesis ')'.\n",
    "- Any right parenthesis ')' must have a corresponding left parenthesis '('.\n",
    "- Left parenthesis '(' must go before the corresponding right parenthesis ')'.\n",
    "- '*' could be treated as a single right parenthesis ')' or a single left parenthesis '(' or an empty string \"\".\n",
    "\n",
    "**Example 1:**\n",
    "\n",
    "**Input:** s = \"()\"\n",
    "\n",
    "**Output:**\n",
    "\n",
    "true\n",
    "\n",
    "\"\"\""
   ]
  },
  {
   "cell_type": "code",
   "execution_count": 39,
   "id": "964ee0c4-b9a7-4ead-8aed-c503c2c5858d",
   "metadata": {},
   "outputs": [],
   "source": [
    "def isValid(s):\n",
    "    stack = []\n",
    "    open_parentheses = 0\n",
    "\n",
    "    for c in s:\n",
    "        if c == '(' or c == '*':\n",
    "            stack.append(c)\n",
    "        elif c == ')':\n",
    "            if stack and stack[-1] == '(':\n",
    "                stack.pop()\n",
    "            else:\n",
    "                stack.append(c)\n",
    "\n",
    "    while stack:\n",
    "        if stack[-1] == '(':\n",
    "            open_parentheses += 1\n",
    "            stack.pop()\n",
    "        elif stack[-1] == '*':\n",
    "            stack.pop()\n",
    "        else:\n",
    "            if open_parentheses > len(stack):\n",
    "                return False\n",
    "            stack.pop()\n",
    "\n",
    "    return True\n"
   ]
  },
  {
   "cell_type": "code",
   "execution_count": 40,
   "id": "b52cb8c4-68a6-46a9-8ca4-d001664229a9",
   "metadata": {},
   "outputs": [
    {
     "data": {
      "text/plain": [
       "True"
      ]
     },
     "execution_count": 40,
     "metadata": {},
     "output_type": "execute_result"
    }
   ],
   "source": [
    "isValid(\"()\")"
   ]
  },
  {
   "cell_type": "code",
   "execution_count": 41,
   "id": "a51dc339-47b9-4e87-aa8e-e9e520147405",
   "metadata": {},
   "outputs": [
    {
     "data": {
      "text/plain": [
       "'\\n **Question 3**\\n\\nGiven two strings word1 and word2, return *the minimum number of **steps** required to make* word1 *and* word2 *the same*.\\n\\nIn one **step**, you can delete exactly one character in either string.\\n\\n**Example 1:**\\n\\n**Input:** word1 = \"sea\", word2 = \"eat\"\\n\\n**Output:** 2\\n\\n**Explanation:** You need one step to make \"sea\" to \"ea\" and another step to make \"eat\" to \"ea\".\\n\\n'"
      ]
     },
     "execution_count": 41,
     "metadata": {},
     "output_type": "execute_result"
    }
   ],
   "source": [
    "\"\"\"\n",
    " **Question 3**\n",
    "\n",
    "Given two strings word1 and word2, return *the minimum number of **steps** required to make* word1 *and* word2 *the same*.\n",
    "\n",
    "In one **step**, you can delete exactly one character in either string.\n",
    "\n",
    "**Example 1:**\n",
    "\n",
    "**Input:** word1 = \"sea\", word2 = \"eat\"\n",
    "\n",
    "**Output:** 2\n",
    "\n",
    "**Explanation:** You need one step to make \"sea\" to \"ea\" and another step to make \"eat\" to \"ea\".\n",
    "\n",
    "\"\"\""
   ]
  },
  {
   "cell_type": "code",
   "execution_count": 42,
   "id": "94581fb0-fb37-42ca-9722-11dd6b08c0b2",
   "metadata": {},
   "outputs": [],
   "source": [
    "def minSteps(word1, word2):\n",
    "    m, n = len(word1), len(word2)\n",
    "    dp = [[0] * (n+1) for _ in range(m+1)]\n",
    "\n",
    "    for i in range(1, m+1):\n",
    "        dp[i][0] = i\n",
    "\n",
    "    for j in range(1, n+1):\n",
    "        dp[0][j] = j\n",
    "\n",
    "    for i in range(1, m+1):\n",
    "        for j in range(1, n+1):\n",
    "            if word1[i-1] == word2[j-1]:\n",
    "                dp[i][j] = dp[i-1][j-1]\n",
    "            else:\n",
    "                dp[i][j] = min(dp[i-1][j] + 1, dp[i][j-1] + 1)\n",
    "\n",
    "    return dp[m][n]\n"
   ]
  },
  {
   "cell_type": "code",
   "execution_count": 43,
   "id": "5e967a64-1798-474b-be0e-b34c8be48714",
   "metadata": {},
   "outputs": [
    {
     "data": {
      "text/plain": [
       "2"
      ]
     },
     "execution_count": 43,
     "metadata": {},
     "output_type": "execute_result"
    }
   ],
   "source": [
    "minSteps(\"sea\", \"eat\")"
   ]
  },
  {
   "cell_type": "code",
   "execution_count": 44,
   "id": "22fff161-2838-488c-ab1d-95bf4a4d8c86",
   "metadata": {},
   "outputs": [
    {
     "data": {
      "text/plain": [
       "\"\\n**Question 4**\\n\\nYou need to construct a binary tree from a string consisting of parenthesis and integers.\\n\\nThe whole input represents a binary tree. It contains an integer followed by zero, one or two pairs of parenthesis. The integer represents the root's value and a pair of parenthesis contains a child binary tree with the same structure.\\nYou always start to construct the **left** child node of the parent first if it exists.\\n\\n\""
      ]
     },
     "execution_count": 44,
     "metadata": {},
     "output_type": "execute_result"
    }
   ],
   "source": [
    "\"\"\"\n",
    "**Question 4**\n",
    "\n",
    "You need to construct a binary tree from a string consisting of parenthesis and integers.\n",
    "\n",
    "The whole input represents a binary tree. It contains an integer followed by zero, one or two pairs of parenthesis. The integer represents the root's value and a pair of parenthesis contains a child binary tree with the same structure.\n",
    "You always start to construct the **left** child node of the parent first if it exists.\n",
    "\n",
    "\"\"\""
   ]
  },
  {
   "cell_type": "code",
   "execution_count": 45,
   "id": "d638b5dd-2365-4172-af78-0db2b5f4f642",
   "metadata": {},
   "outputs": [],
   "source": [
    "class TreeNode:\n",
    "    def __init__(self, val=0, left=None, right=None):\n",
    "        self.val = val\n",
    "        self.left = left\n",
    "        self.right = right\n",
    "\n",
    "def constructTree(s):\n",
    "    if not s or s[0] == '()':\n",
    "        return None\n",
    "\n",
    "    left_start = s.index('(')\n",
    "    root_val = int(s[:left_start])\n",
    "\n",
    "    if left_start == len(s) - 1:\n",
    "        return TreeNode(root_val)\n",
    "\n",
    "    left_end = findMatchingParenthesis(s, left_start)\n",
    "    right_start = left_end + 2\n",
    "\n",
    "    left_subtree = constructTree(s[left_start + 1:left_end])\n",
    "    right_subtree = constructTree(s[right_start:])\n",
    "\n",
    "    root = TreeNode(root_val)\n",
    "    root.left = left_subtree\n",
    "    root.right = right_subtree\n",
    "\n",
    "    return root\n",
    "\n",
    "def findMatchingParenthesis(s, start):\n",
    "    count = 0\n",
    "\n",
    "    for i in range(start, len(s)):\n",
    "        if s[i] == '(':\n",
    "            count += 1\n",
    "        elif s[i] == ')':\n",
    "            count -= 1\n",
    "\n",
    "        if count == 0:\n",
    "            return i\n",
    "\n",
    "    return -1\n"
   ]
  },
  {
   "cell_type": "code",
   "execution_count": 46,
   "id": "482a877b-d067-42f5-ad75-664b8bab8b24",
   "metadata": {},
   "outputs": [
    {
     "data": {
      "text/plain": [
       "\"\\n **Question 4**\\n\\nYou need to construct a binary tree from a string consisting of parenthesis and integers.\\n\\nThe whole input represents a binary tree. It contains an integer followed by zero, one or two pairs of parenthesis. The integer represents the root's value and a pair of parenthesis contains a child binary tree with the same structure.\\nYou always start to construct the **left** child node of the parent first if it exists.\\n\""
      ]
     },
     "execution_count": 46,
     "metadata": {},
     "output_type": "execute_result"
    }
   ],
   "source": [
    "\"\"\"\n",
    " **Question 4**\n",
    "\n",
    "You need to construct a binary tree from a string consisting of parenthesis and integers.\n",
    "\n",
    "The whole input represents a binary tree. It contains an integer followed by zero, one or two pairs of parenthesis. The integer represents the root's value and a pair of parenthesis contains a child binary tree with the same structure.\n",
    "You always start to construct the **left** child node of the parent first if it exists.\n",
    "\"\"\""
   ]
  },
  {
   "cell_type": "code",
   "execution_count": 47,
   "id": "437f019e-eb32-4ede-98fa-7b0297b6fb75",
   "metadata": {},
   "outputs": [],
   "source": [
    "class TreeNode:\n",
    "    def __init__(self, val=0, left=None, right=None):\n",
    "        self.val = val\n",
    "        self.left = left\n",
    "        self.right = right\n",
    "\n",
    "def constructTree(s):\n",
    "    if not s or s[0] == '()':\n",
    "        return None\n",
    "\n",
    "    left_start = s.index('(')\n",
    "    root_val = int(s[:left_start])\n",
    "\n",
    "    if left_start == len(s) - 1:\n",
    "        return TreeNode(root_val)\n",
    "\n",
    "    left_end = findMatchingParenthesis(s, left_start)\n",
    "    right_start = left_end + 2\n",
    "\n",
    "    left_subtree = constructTree(s[left_start + 1:left_end])\n",
    "    right_subtree = constructTree(s[right_start:])\n",
    "\n",
    "    root = TreeNode(root_val)\n",
    "    root.left = left_subtree\n",
    "    root.right = right_subtree\n",
    "\n",
    "    return root\n",
    "\n",
    "def findMatchingParenthesis(s, start):\n",
    "    count = 0\n",
    "\n",
    "    for i in range(start, len(s)):\n",
    "        if s[i] == '(':\n",
    "            count += 1\n",
    "        elif s[i] == ')':\n",
    "            count -= 1\n",
    "\n",
    "        if count == 0:\n",
    "            return i\n",
    "\n",
    "    return -1\n",
    "\n",
    "def inorderTraversal(root):\n",
    "    if root is None:\n",
    "        return []\n",
    "\n",
    "    result = []\n",
    "    stack = []\n",
    "\n",
    "    while root or stack:\n",
    "        while root:\n",
    "            stack.append(root)\n",
    "            root = root.left\n",
    "\n",
    "        node = stack.pop()\n",
    "        result.append(node.val)\n",
    "        root = node.right\n",
    "\n",
    "    return result\n",
    "\n",
    "     "
   ]
  },
  {
   "cell_type": "code",
   "execution_count": 48,
   "id": "e95fbffc-f9c1-4098-b3e7-3897db8eeb0a",
   "metadata": {},
   "outputs": [
    {
     "ename": "SyntaxError",
     "evalue": "incomplete input (2283765396.py, line 1)",
     "output_type": "error",
     "traceback": [
      "\u001b[0;36m  Cell \u001b[0;32mIn [48], line 1\u001b[0;36m\u001b[0m\n\u001b[0;31m    inorderTraversal(constructTree(\"4(2(3)(1))(6(5))\")\u001b[0m\n\u001b[0m                                                      ^\u001b[0m\n\u001b[0;31mSyntaxError\u001b[0m\u001b[0;31m:\u001b[0m incomplete input\n"
     ]
    }
   ],
   "source": [
    "inorderTraversal(constructTree(\"4(2(3)(1))(6(5))\")"
   ]
  },
  {
   "cell_type": "code",
   "execution_count": 49,
   "id": "5654e4d6-f807-4175-a337-21911063ed47",
   "metadata": {},
   "outputs": [
    {
     "data": {
      "text/plain": [
       "'\\n**Question 5**\\n\\nGiven an array of characters chars, compress it using the following algorithm:\\n\\nBegin with an empty string s. For each group of **consecutive repeating characters** in chars:\\n\\n- If the group\\'s length is 1, append the character to s.\\n- Otherwise, append the character followed by the group\\'s length.\\n\\nThe compressed string s **should not be returned separately**, but instead, be stored **in the input character array chars**. Note that group lengths that are 10 or longer will be split into multiple characters in chars.\\n\\nAfter you are done **modifying the input array,** return *the new length of the array*.\\n\\nYou must write an algorithm that uses only constant extra space.\\n\\n**Example 1:**\\n\\n**Input:** chars = [\"a\",\"a\",\"b\",\"b\",\"c\",\"c\",\"c\"]\\n\\n**Output:** Return 6, and the first 6 characters of the input array should be: [\"a\",\"2\",\"b\",\"2\",\"c\",\"3\"]\\n\\n**Explanation:**\\n\\nThe groups are \"aa\", \"bb\", and \"ccc\". This compresses to \"a2b2c3\".\\n\\n'"
      ]
     },
     "execution_count": 49,
     "metadata": {},
     "output_type": "execute_result"
    }
   ],
   "source": [
    "\"\"\"\n",
    "**Question 5**\n",
    "\n",
    "Given an array of characters chars, compress it using the following algorithm:\n",
    "\n",
    "Begin with an empty string s. For each group of **consecutive repeating characters** in chars:\n",
    "\n",
    "- If the group's length is 1, append the character to s.\n",
    "- Otherwise, append the character followed by the group's length.\n",
    "\n",
    "The compressed string s **should not be returned separately**, but instead, be stored **in the input character array chars**. Note that group lengths that are 10 or longer will be split into multiple characters in chars.\n",
    "\n",
    "After you are done **modifying the input array,** return *the new length of the array*.\n",
    "\n",
    "You must write an algorithm that uses only constant extra space.\n",
    "\n",
    "**Example 1:**\n",
    "\n",
    "**Input:** chars = [\"a\",\"a\",\"b\",\"b\",\"c\",\"c\",\"c\"]\n",
    "\n",
    "**Output:** Return 6, and the first 6 characters of the input array should be: [\"a\",\"2\",\"b\",\"2\",\"c\",\"3\"]\n",
    "\n",
    "**Explanation:**\n",
    "\n",
    "The groups are \"aa\", \"bb\", and \"ccc\". This compresses to \"a2b2c3\".\n",
    "\n",
    "\"\"\""
   ]
  },
  {
   "cell_type": "code",
   "execution_count": 50,
   "id": "340d29e2-5eee-44f7-85d4-db3f604e172b",
   "metadata": {},
   "outputs": [],
   "source": [
    "def compress(chars):\n",
    "    readPtr = writePtr = 0\n",
    "    count = 1\n",
    "    prevChar = chars[0]\n",
    "\n",
    "    while readPtr < len(chars):\n",
    "        if readPtr + 1 < len(chars) and chars[readPtr + 1] == prevChar:\n",
    "            count += 1\n",
    "        else:\n",
    "            chars[writePtr] = prevChar\n",
    "            writePtr += 1\n",
    "            if count > 1:\n",
    "                for digit in str(count):\n",
    "                    chars[writePtr] = digit\n",
    "                    writePtr += 1\n",
    "            count = 1\n",
    "\n",
    "        prevChar = chars[readPtr]\n",
    "        readPtr += 1\n",
    "\n",
    "    return writePtr\n"
   ]
  },
  {
   "cell_type": "code",
   "execution_count": 51,
   "id": "5f870c52-d2eb-477d-8523-d689c8d70fa3",
   "metadata": {},
   "outputs": [
    {
     "name": "stdout",
     "output_type": "stream",
     "text": [
      "7\n",
      "['a', '2', '2', '2', '2', '2', '2']\n"
     ]
    }
   ],
   "source": [
    "chars = [\"a\", \"a\", \"b\", \"b\", \"c\", \"c\", \"c\"]\n",
    "newLength = compress(chars)\n",
    "print(newLength)  # Output: 6\n",
    "print(chars[:newLength])  # Output: [\"a\", \"2\", \"b\", \"2\", \"c\", \"3\"]\n"
   ]
  },
  {
   "cell_type": "code",
   "execution_count": 52,
   "id": "ccadf40f-6919-48ae-b561-23aea5edc405",
   "metadata": {},
   "outputs": [
    {
     "data": {
      "text/plain": [
       "'\\n **Question 6**\\n\\nGiven two strings s and p, return *an array of all the start indices of* p*\\'s anagrams in* s. You may return the answer in **any order**.\\n\\nAn **Anagram** is a word or phrase formed by rearranging the letters of a different word or phrase, typically using all the original letters exactly once.\\n\\n**Example 1:**\\n\\n**Input:** s = \"cbaebabacd\", p = \"abc\"\\n\\n**Output:** [0,6]\\n\\n**Explanation:**\\n\\nThe substring with start index = 0 is \"cba\", which is an anagram of \"abc\".\\n\\nThe substring with start index = 6 is \"bac\", which is an anagram of \"abc\".\\n\\n'"
      ]
     },
     "execution_count": 52,
     "metadata": {},
     "output_type": "execute_result"
    }
   ],
   "source": [
    "\"\"\"\n",
    " **Question 6**\n",
    "\n",
    "Given two strings s and p, return *an array of all the start indices of* p*'s anagrams in* s. You may return the answer in **any order**.\n",
    "\n",
    "An **Anagram** is a word or phrase formed by rearranging the letters of a different word or phrase, typically using all the original letters exactly once.\n",
    "\n",
    "**Example 1:**\n",
    "\n",
    "**Input:** s = \"cbaebabacd\", p = \"abc\"\n",
    "\n",
    "**Output:** [0,6]\n",
    "\n",
    "**Explanation:**\n",
    "\n",
    "The substring with start index = 0 is \"cba\", which is an anagram of \"abc\".\n",
    "\n",
    "The substring with start index = 6 is \"bac\", which is an anagram of \"abc\".\n",
    "\n",
    "\"\"\""
   ]
  },
  {
   "cell_type": "code",
   "execution_count": 53,
   "id": "be26d082-cfbb-46b5-b19f-f8bf65b75a7a",
   "metadata": {},
   "outputs": [],
   "source": [
    "from collections import Counter\n",
    "\n",
    "def findAnagrams(s, p):\n",
    "    pCount = Counter(p)\n",
    "    windowCount = Counter()\n",
    "    result = []\n",
    "    left, right = 0, 0\n",
    "\n",
    "    while right < len(s):\n",
    "        windowCount[s[right]] += 1\n",
    "\n",
    "        if right - left + 1 == len(p):\n",
    "            if windowCount == pCount:\n",
    "                result.append(left)\n",
    "\n",
    "            windowCount[s[left]] -= 1\n",
    "            if windowCount[s[left]] == 0:\n",
    "                del windowCount[s[left]]\n",
    "            left += 1\n",
    "\n",
    "        right += 1\n",
    "\n",
    "    return result\n"
   ]
  },
  {
   "cell_type": "code",
   "execution_count": 54,
   "id": "902085bb-6a77-45e7-bc4f-5898702bcd8f",
   "metadata": {},
   "outputs": [
    {
     "name": "stdout",
     "output_type": "stream",
     "text": [
      "[0, 6]\n"
     ]
    }
   ],
   "source": [
    "s = \"cbaebabacd\"\n",
    "p = \"abc\"\n",
    "indices = findAnagrams(s, p)\n",
    "print(indices)  # Output: [0, 6]\n"
   ]
  },
  {
   "cell_type": "code",
   "execution_count": 55,
   "id": "8b478641-46ec-4547-8468-790848800ec9",
   "metadata": {},
   "outputs": [
    {
     "data": {
      "text/plain": [
       "'\\n **Question 7**\\n\\nGiven an encoded string, return its decoded string.\\n\\nThe encoding rule is: k[encoded_string], where the encoded_string inside the square brackets is being repeated exactly k times. Note that k is guaranteed to be a positive integer.\\n\\nYou may assume that the input string is always valid; there are no extra white spaces, square brackets are well-formed, etc. Furthermore, you may assume that the original data does not contain any digits and that digits are only for those repeat numbers, k. For example, there will not be input like 3a or 2[4].\\n\\nThe test cases are generated so that the length of the output will never exceed 105.\\n\\n**Example 1:**\\n\\n**Input:** s = \"3[a]2[bc]\"\\n\\n**Output:** \"aaabcbc\"\\n\\n'"
      ]
     },
     "execution_count": 55,
     "metadata": {},
     "output_type": "execute_result"
    }
   ],
   "source": [
    "\"\"\"\n",
    " **Question 7**\n",
    "\n",
    "Given an encoded string, return its decoded string.\n",
    "\n",
    "The encoding rule is: k[encoded_string], where the encoded_string inside the square brackets is being repeated exactly k times. Note that k is guaranteed to be a positive integer.\n",
    "\n",
    "You may assume that the input string is always valid; there are no extra white spaces, square brackets are well-formed, etc. Furthermore, you may assume that the original data does not contain any digits and that digits are only for those repeat numbers, k. For example, there will not be input like 3a or 2[4].\n",
    "\n",
    "The test cases are generated so that the length of the output will never exceed 105.\n",
    "\n",
    "**Example 1:**\n",
    "\n",
    "**Input:** s = \"3[a]2[bc]\"\n",
    "\n",
    "**Output:** \"aaabcbc\"\n",
    "\n",
    "\"\"\""
   ]
  },
  {
   "cell_type": "code",
   "execution_count": 56,
   "id": "21a8ef44-be11-4fbc-83d3-af4f4e4ce87f",
   "metadata": {},
   "outputs": [],
   "source": [
    "def decodeString(s):\n",
    "    stack = []\n",
    "    \n",
    "    for c in s:\n",
    "        if c == ']':\n",
    "            decoded = \"\"\n",
    "            while stack[-1] != '[':\n",
    "                decoded = stack.pop() + decoded\n",
    "            stack.pop()  # Pop '['\n",
    "            num = stack.pop()\n",
    "            decoded *= int(num)\n",
    "            stack.append(decoded)\n",
    "        else:\n",
    "            stack.append(c)\n",
    "    \n",
    "    return ''.join(stack)\n"
   ]
  },
  {
   "cell_type": "code",
   "execution_count": 57,
   "id": "5fd5d212-2e16-44bd-ba18-cbf25f513a3f",
   "metadata": {},
   "outputs": [
    {
     "name": "stdout",
     "output_type": "stream",
     "text": [
      "aaabcbc\n"
     ]
    }
   ],
   "source": [
    "s = \"3[a]2[bc]\"\n",
    "decoded = decodeString(s)\n",
    "print(decoded)  # Output: \"aaabcbc\"\n"
   ]
  },
  {
   "cell_type": "code",
   "execution_count": 58,
   "id": "70348477-fc5d-4f2d-aaff-8e9ae1b72c4c",
   "metadata": {},
   "outputs": [
    {
     "data": {
      "text/plain": [
       "'\\n **Question 8**\\n\\nGiven two strings s and goal, return true *if you can swap two letters in* s *so the result is equal to* goal*, otherwise, return* false*.*\\n\\nSwapping letters is defined as taking two indices i and j (0-indexed) such that i != j and swapping the characters at s[i] and s[j].\\n\\n- For example, swapping at indices 0 and 2 in \"abcd\" results in \"cbad\".\\n\\n**Example 1:**\\n\\n**Input:** s = \"ab\", goal = \"ba\"\\n\\n**Output:** true\\n\\n**Explanation:** You can swap s[0] = \\'a\\' and s[1] = \\'b\\' to get \"ba\", which is equal to goal.\\n\\n'"
      ]
     },
     "execution_count": 58,
     "metadata": {},
     "output_type": "execute_result"
    }
   ],
   "source": [
    "\"\"\"\n",
    " **Question 8**\n",
    "\n",
    "Given two strings s and goal, return true *if you can swap two letters in* s *so the result is equal to* goal*, otherwise, return* false*.*\n",
    "\n",
    "Swapping letters is defined as taking two indices i and j (0-indexed) such that i != j and swapping the characters at s[i] and s[j].\n",
    "\n",
    "- For example, swapping at indices 0 and 2 in \"abcd\" results in \"cbad\".\n",
    "\n",
    "**Example 1:**\n",
    "\n",
    "**Input:** s = \"ab\", goal = \"ba\"\n",
    "\n",
    "**Output:** true\n",
    "\n",
    "**Explanation:** You can swap s[0] = 'a' and s[1] = 'b' to get \"ba\", which is equal to goal.\n",
    "\n",
    "\"\"\""
   ]
  },
  {
   "cell_type": "code",
   "execution_count": 59,
   "id": "2201c797-34b3-4108-99d1-441f764fddb3",
   "metadata": {},
   "outputs": [],
   "source": [
    "def buddyStrings(s, goal):\n",
    "    if len(s) != len(goal):\n",
    "        return False\n",
    "\n",
    "    diff_chars = []\n",
    "    diff_indices = []\n",
    "\n",
    "    for i in range(len(s)):\n",
    "        if s[i] != goal[i]:\n",
    "            diff_chars.append((s[i], goal[i]))\n",
    "            diff_indices.append(i)\n",
    "\n",
    "    if len(diff_chars) != 2:\n",
    "        return False\n",
    "\n",
    "    char1, char2 = diff_chars[0][0], diff_chars[1][0]\n",
    "    return char1 == diff_chars[1][1] and char2 == diff_chars[0][1]\n"
   ]
  },
  {
   "cell_type": "code",
   "execution_count": 60,
   "id": "cf18f474-c080-43c1-baa6-6f4c2526c89c",
   "metadata": {},
   "outputs": [
    {
     "name": "stdout",
     "output_type": "stream",
     "text": [
      "True\n"
     ]
    }
   ],
   "source": [
    "s = \"ab\"\n",
    "goal = \"ba\"\n",
    "result = buddyStrings(s, goal)\n",
    "print(result)  # Output: True\n"
   ]
  },
  {
   "cell_type": "code",
   "execution_count": null,
   "id": "3bc3e51d-0e40-420f-855b-f9330e413dd2",
   "metadata": {},
   "outputs": [],
   "source": []
  }
 ],
 "metadata": {
  "kernelspec": {
   "display_name": "Python 3 (ipykernel)",
   "language": "python",
   "name": "python3"
  },
  "language_info": {
   "codemirror_mode": {
    "name": "ipython",
    "version": 3
   },
   "file_extension": ".py",
   "mimetype": "text/x-python",
   "name": "python",
   "nbconvert_exporter": "python",
   "pygments_lexer": "ipython3",
   "version": "3.10.6"
  }
 },
 "nbformat": 4,
 "nbformat_minor": 5
}
